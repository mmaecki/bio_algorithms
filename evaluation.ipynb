{
 "cells": [
  {
   "cell_type": "code",
   "execution_count": 1,
   "metadata": {},
   "outputs": [],
   "source": [
    "from matplotlib import pyplot as plt"
   ]
  },
  {
   "cell_type": "code",
   "execution_count": 3,
   "metadata": {},
   "outputs": [
    {
     "name": "stdout",
     "output_type": "stream",
     "text": [
      "Best cost: 29808\n",
      "Average cost: 34107.2\n",
      "Standard deviation: 952.95\n",
      "Iterations: 225086\n",
      "Best solution: \n",
      "234 210 167 188 76 26 130 217 218 191 120 83 216 65 53 171 246 229 231 6 227 78 98 208 247 141 44 86 187 147 123 101 47 128 64 81 49 176 29 239 166 173 263 279 240 36 262 275 73 22 102 99 70 106 215 197 212 232 251 126 103 28 127 157 144 269 104 35 204 196 9 138 3 0 8 276 222 258 203 237 11 165 108 68 72 168 112 224 265 250 244 79 88 245 259 7 19 61 170 248 238 243 225 255 193 42 23 1 178 13 159 74 184 198 179 87 175 85 201 257 219 207 268 205 17 236 220 139 149 223 40 115 63 95 189 177 233 105 143 142 261 10 34 54 55 32 57 158 94 89 124 146 226 4 75 266 132 14 122 161 163 60 43 260 214 92 100 24 253 242 50 109 256 25 180 164 58 154 172 185 16 152 38 15 278 264 82 182 30 199 153 45 271 90 133 31 209 169 272 18 84 77 140 202 277 131 241 41 121 136 59 46 51 192 206 137 5 117 113 183 119 80 148 213 107 254 116 174 162 270 27 156 230 52 33 195 56 235 66 118 135 194 69 48 186 91 97 274 134 129 71 252 211 96 150 181 62 200 267 155 160 125 67 114 221 145 93 249 12 20 190 39 151 273 228 2 110 37 21 111 "
     ]
    },
    {
     "data": {
      "text/plain": [
       "CompletedProcess(args=['./main', 'data/a280.tsp', 'random_search', '1'], returncode=0)"
      ]
     },
     "execution_count": 3,
     "metadata": {},
     "output_type": "execute_result"
    }
   ],
   "source": [
    "import subprocess\n",
    "\n",
    "# run c++ program main\n",
    "\n",
    "subprocess.run([\"./main\", \"data/a280.tsp\", \"random_search\", \"1\"])"
   ]
  }
 ],
 "metadata": {
  "kernelspec": {
   "display_name": "Python 3",
   "language": "python",
   "name": "python3"
  },
  "language_info": {
   "codemirror_mode": {
    "name": "ipython",
    "version": 3
   },
   "file_extension": ".py",
   "mimetype": "text/x-python",
   "name": "python",
   "nbconvert_exporter": "python",
   "pygments_lexer": "ipython3",
   "version": "3.11.8"
  }
 },
 "nbformat": 4,
 "nbformat_minor": 2
}
